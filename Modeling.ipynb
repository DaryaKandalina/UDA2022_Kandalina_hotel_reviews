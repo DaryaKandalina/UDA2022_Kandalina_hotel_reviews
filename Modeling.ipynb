{
 "cells": [
  {
   "cell_type": "code",
   "execution_count": 1,
   "id": "e18ad0f6",
   "metadata": {},
   "outputs": [],
   "source": [
    "import requests\n",
    "import numpy as np\n",
    "from bs4 import BeautifulSoup\n",
    "import time\n",
    "import random\n",
    "import pandas as pd\n",
    "import numpy as np\n",
    "import seaborn as sns\n",
    "import matplotlib.pyplot as plt\n",
    "\n",
    "from collections import defaultdict\n",
    "from sklearn.model_selection import train_test_split, GridSearchCV\n",
    "import nltk\n",
    "from nltk.tokenize import regexp_tokenize, word_tokenize, RegexpTokenizer\n",
    "from nltk.corpus import stopwords, wordnet\n",
    "from nltk import pos_tag\n",
    "from nltk.stem import WordNetLemmatizer\n",
    "from sklearn.feature_extraction.text import TfidfVectorizer, CountVectorizer\n",
    "from sklearn.ensemble import RandomForestClassifier\n",
    "from sklearn.naive_bayes import MultinomialNB\n",
    "from sklearn import metrics\n",
    "from sklearn.metrics import roc_curve, auc, accuracy_score, precision_score, f1_score, recall_score, confusion_matrix, classification_report, make_scorer\n",
    "from sklearn.decomposition import PCA\n",
    "from sklearn import linear_model\n",
    "from sklearn.preprocessing import MinMaxScaler, StandardScaler\n",
    "from sklearn import tree \n",
    "from xgboost import XGBClassifier\n",
    "from lightgbm import LGBMRegressor, LGBMClassifier, Booster\n",
    "from sklearn.neighbors import KNeighborsClassifier\n",
    "from sklearn.multiclass import OneVsRestClassifier\n",
    "from sklearn.svm import SVC\n",
    "import plotly.express as px\n",
    "\n",
    "sns.set_style('whitegrid')"
   ]
  },
  {
   "cell_type": "code",
   "execution_count": 2,
   "id": "cdf16d13",
   "metadata": {},
   "outputs": [],
   "source": [
    "Reading pre-loaded and prepared data\n",
    "df=pd.read_csv('df_uda.csv', sep='\\t')  "
   ]
  },
  {
   "cell_type": "markdown",
   "id": "94e6619c",
   "metadata": {},
   "source": [
    "## Train/Test Spliting and Vectorizing"
   ]
  },
  {
   "cell_type": "markdown",
   "id": "55d78090",
   "metadata": {},
   "source": [
    "The TF-IDF Vectorizer is used, which takes into account how frequent a word appears in a document and also how unqiue the word is in overall corpus. In order to capture the most meaningful words, we cut off the top 10% and bottom 5% of words."
   ]
  },
  {
   "cell_type": "code",
   "execution_count": 7,
   "id": "152ee1d2",
   "metadata": {},
   "outputs": [],
   "source": [
    "X = df['tokenized'].astype(str)\n",
    "\n",
    "y = df['new_rating'].astype(str)"
   ]
  },
  {
   "cell_type": "code",
   "execution_count": 8,
   "id": "9504bf80",
   "metadata": {},
   "outputs": [],
   "source": [
    "tfidf_train = TfidfVectorizer(sublinear_tf=True, max_df=.9, min_df=.05,  ngram_range=(1, 1))"
   ]
  },
  {
   "cell_type": "code",
   "execution_count": 9,
   "id": "e75cdd5d",
   "metadata": {},
   "outputs": [],
   "source": [
    "\n",
    "X_train, X_test, y_train, y_test =  train_test_split(X, y, train_size= .8, random_state= 42)\n",
    "train_features = tfidf_train.fit_transform(X_train).toarray()\n",
    "test_features = tfidf_train.transform(X_test).toarray()"
   ]
  },
  {
   "cell_type": "code",
   "execution_count": 10,
   "id": "e475b5d2",
   "metadata": {},
   "outputs": [
    {
     "name": "stderr",
     "output_type": "stream",
     "text": [
      "/Users/d.kandalina/Library/Python/3.8/lib/python/site-packages/sklearn/utils/deprecation.py:87: FutureWarning: Function get_feature_names is deprecated; get_feature_names is deprecated in 1.0 and will be removed in 1.2. Please use get_feature_names_out instead.\n",
      "  warnings.warn(msg, category=FutureWarning)\n"
     ]
    },
    {
     "data": {
      "text/plain": [
       "leave          0.012791\n",
       "balcony        0.013086\n",
       "arrive         0.013229\n",
       "everyone       0.013296\n",
       "far            0.013436\n",
       "quite          0.013520\n",
       "small          0.013575\n",
       "morning        0.013688\n",
       "keep           0.013743\n",
       "large          0.013814\n",
       "ever           0.013896\n",
       "find           0.013914\n",
       "desk           0.014082\n",
       "option         0.014267\n",
       "shuttle        0.014282\n",
       "hour           0.014437\n",
       "smile          0.014633\n",
       "overall        0.014655\n",
       "week           0.014683\n",
       "top            0.014752\n",
       "right          0.014756\n",
       "free           0.014827\n",
       "ask            0.014895\n",
       "quiet          0.014950\n",
       "bit            0.014994\n",
       "choice         0.015101\n",
       "access         0.015122\n",
       "sure           0.015189\n",
       "use            0.015214\n",
       "property       0.015398\n",
       "manager        0.015465\n",
       "care           0.015489\n",
       "two            0.015495\n",
       "super          0.015719\n",
       "return         0.015820\n",
       "work           0.015916\n",
       "offer          0.015971\n",
       "enough         0.016109\n",
       "way            0.016173\n",
       "little         0.016195\n",
       "price          0.016240\n",
       "thailand       0.016313\n",
       "thing          0.016338\n",
       "away           0.016451\n",
       "it             0.016591\n",
       "spa            0.016976\n",
       "say            0.017043\n",
       "people         0.017094\n",
       "provide        0.017135\n",
       "minute         0.017233\n",
       "guest          0.017259\n",
       "happy          0.017444\n",
       "relax          0.017519\n",
       "holiday        0.017521\n",
       "star           0.017660\n",
       "spacious       0.017754\n",
       "year           0.017823\n",
       "team           0.017852\n",
       "delicious      0.017892\n",
       "drink          0.018039\n",
       "buffet         0.018459\n",
       "see            0.018797\n",
       "kind           0.018827\n",
       "thai           0.018844\n",
       "next           0.018873\n",
       "facility       0.018884\n",
       "feel           0.018889\n",
       "trip           0.019151\n",
       "give           0.019364\n",
       "private        0.019589\n",
       "sea            0.019638\n",
       "thanks         0.019739\n",
       "around         0.019930\n",
       "close          0.020320\n",
       "water          0.020381\n",
       "swim           0.020409\n",
       "reception      0.021152\n",
       "first          0.021216\n",
       "highly         0.021275\n",
       "want           0.021387\n",
       "fantastic      0.021569\n",
       "welcome        0.021939\n",
       "many           0.022074\n",
       "could          0.022189\n",
       "comfortable    0.022267\n",
       "bed            0.022309\n",
       "front          0.022720\n",
       "visit          0.022810\n",
       "amazing        0.022951\n",
       "especially     0.023170\n",
       "lot            0.023196\n",
       "special        0.023266\n",
       "villa          0.023351\n",
       "help           0.023418\n",
       "big            0.023605\n",
       "book           0.023821\n",
       "kid            0.024006\n",
       "definitely     0.024198\n",
       "much           0.024257\n",
       "look           0.024269\n",
       "every          0.024440\n",
       "patong         0.024555\n",
       "perfect        0.024623\n",
       "even           0.025561\n",
       "check          0.026031\n",
       "area           0.026178\n",
       "always         0.026747\n",
       "wonderful      0.026952\n",
       "take           0.026964\n",
       "enjoy          0.026983\n",
       "walk           0.027404\n",
       "everything     0.027707\n",
       "family         0.027929\n",
       "thank          0.028309\n",
       "need           0.028476\n",
       "lovely         0.028876\n",
       "experience     0.029041\n",
       "love           0.030764\n",
       "bar            0.031164\n",
       "like           0.031829\n",
       "excellent      0.032452\n",
       "get            0.033119\n",
       "come           0.034196\n",
       "night          0.034380\n",
       "go             0.034664\n",
       "amaze          0.034900\n",
       "really         0.035782\n",
       "back           0.035888\n",
       "best           0.036280\n",
       "would          0.036364\n",
       "one            0.036520\n",
       "location       0.036748\n",
       "phuket         0.037492\n",
       "recommend      0.037682\n",
       "also           0.037825\n",
       "day            0.038249\n",
       "well           0.038302\n",
       "beautiful      0.038553\n",
       "helpful        0.038604\n",
       "place          0.038898\n",
       "make           0.041435\n",
       "clean          0.043201\n",
       "restaurant     0.043313\n",
       "time           0.044379\n",
       "view           0.047535\n",
       "friendly       0.047579\n",
       "resort         0.051467\n",
       "food           0.051467\n",
       "breakfast      0.052077\n",
       "nice           0.053136\n",
       "service        0.056241\n",
       "beach          0.064053\n",
       "great          0.064332\n",
       "good           0.065920\n",
       "pool           0.066041\n",
       "stay           0.071006\n",
       "staff          0.077222\n",
       "room           0.080570\n",
       "hotel          0.087271\n",
       "dtype: float64"
      ]
     },
     "execution_count": 10,
     "metadata": {},
     "output_type": "execute_result"
    }
   ],
   "source": [
    "pd.set_option('display.max_rows', None)\n",
    "\n",
    "wm = tfidf_train.fit_transform(X_train)\n",
    "tokens = tfidf_train.get_feature_names()\n",
    "\n",
    "wm.shape\n",
    "doc_names = ['Doc{:d}'.format(idx) for idx, _ in enumerate(wm)]\n",
    "data = pd.DataFrame(data=wm.toarray(), index=doc_names,\n",
    "                  columns=tokens)\n",
    "data.mean().sort_values()"
   ]
  },
  {
   "cell_type": "markdown",
   "id": "885563b7",
   "metadata": {},
   "source": [
    "## PCA"
   ]
  },
  {
   "cell_type": "markdown",
   "id": "f708092b",
   "metadata": {},
   "source": [
    "We tried to use PCA in order to reduce multidimensionality for some of the models."
   ]
  },
  {
   "cell_type": "code",
   "execution_count": 11,
   "id": "6ae74a05",
   "metadata": {},
   "outputs": [],
   "source": [
    "pca = PCA(n_components=0.9, random_state=1)\n",
    "\n",
    "pca_train = pca.fit_transform(train_features)\n",
    "pca_test = pca.transform(test_features)"
   ]
  },
  {
   "cell_type": "code",
   "execution_count": 12,
   "id": "5bfbe729",
   "metadata": {},
   "outputs": [
    {
     "data": {
      "text/plain": [
       "130"
      ]
     },
     "execution_count": 12,
     "metadata": {},
     "output_type": "execute_result"
    }
   ],
   "source": [
    "pca.n_components_"
   ]
  },
  {
   "cell_type": "code",
   "execution_count": 13,
   "id": "9938e73c",
   "metadata": {},
   "outputs": [],
   "source": [
    "pca = PCA(n_components=3)\n",
    "pca_result = pca.fit_transform(train_features)\n",
    "\n",
    "pca1 = pca_result[:,0]\n",
    "pca2 = pca_result[:,1] \n",
    "pca3 = pca_result[:,2]\n",
    "\n",
    "target = pd.Categorical(y_train).codes"
   ]
  },
  {
   "cell_type": "code",
   "execution_count": 14,
   "id": "2accd834",
   "metadata": {},
   "outputs": [
    {
     "data": {
      "text/plain": [
       "<matplotlib.legend.Legend at 0x135d28520>"
      ]
     },
     "execution_count": 14,
     "metadata": {},
     "output_type": "execute_result"
    },
    {
     "data": {
      "image/png": "[encoded data removed]",
      "text/plain": [
       "<Figure size 1368x504 with 1 Axes>"
      ]
     },
     "metadata": {},
     "output_type": "display_data"
    }
   ],
   "source": [
    "fig = plt.figure(figsize=(19, 7))\n",
    "\n",
    "ax = fig.add_subplot(1, 2, 1, projection='3d')\n",
    "ax.set_title('PCA', fontsize=25, loc='left')\n",
    "ax.scatter(xs=pca1, \n",
    "           ys=pca2, \n",
    "           zs=pca3, \n",
    "           c=target,\n",
    "           alpha=.9,)\n",
    "\n",
    "ax.w_xaxis.line.set_color((1.0, 1.0, 1.0, 0.0))\n",
    "ax.w_yaxis.line.set_color((1.0, 1.0, 1.0, 0.0))\n",
    "ax.w_zaxis.line.set_color((1.0, 1.0, 1.0, 0.0))\n",
    "\n",
    "ax.xaxis.set_pane_color((1.0, 1.0, 1.0, 0.0))\n",
    "ax.yaxis.set_pane_color((1.0, 1.0, 1.0, 0.0))\n",
    "ax.zaxis.set_pane_color((1.0, 1.0, 1.0, 0.0))\n",
    "\n",
    "# ax.legend(['Poor','Average','Excellent'])\n",
    "\n",
    "ax.legend(['Poor','Average','Excellent'], bbox_to_anchor=(1.02, -0.08))\n",
    "\n",
    "#why isnt legend showing"
   ]
  },
  {
   "cell_type": "markdown",
   "id": "40a8f230",
   "metadata": {},
   "source": [
    "## Main Part"
   ]
  },
  {
   "cell_type": "markdown",
   "id": "fa9a5ed5",
   "metadata": {},
   "source": [
    "Function for the evaluation of each model"
   ]
  },
  {
   "cell_type": "code",
   "execution_count": 15,
   "id": "f030f9f5",
   "metadata": {},
   "outputs": [],
   "source": [
    "\n",
    "\n",
    "def metrics_score(train_preds, y_train, test_preds, y_test):\n",
    "    print(f\"Training Accuracy:\\t{accuracy_score(y_train, train_preds):.4}\",\n",
    "          f\"\\tTesting Accuracy:\\t{accuracy_score(y_test, test_preds):.4}\")\n",
    "    print(f\"Training Precision:\\t{precision_score(y_train, train_preds, average='weighted'):.4}\",\n",
    "          f\"\\tTesting Precision:\\t{precision_score(y_test, test_preds, average='weighted'):.4}\")\n",
    "    print(f\"Training Recall:\\t{recall_score(y_train, train_preds, average='weighted'):.4}\",\n",
    "          f\"\\tTesting Recall:\\t\\t{recall_score(y_test, test_preds, average='weighted'):.4}\")\n",
    "    print(f\"Training F1:\\t\\t{f1_score(y_train, train_preds, average='weighted'):.4}\",\n",
    "          f\"\\tTesting F1:\\t\\t{f1_score(y_test, test_preds, average='weighted'):.4}\")"
   ]
  },
  {
   "attachments": {},
   "cell_type": "markdown",
   "id": "9e4c5ff2",
   "metadata": {},
   "source": [
    "Next, we tried different models, both with and without PCA, to compare the results and choose the most appropriate model for our task.\n",
    "Accuracy and F1-score were chosen as the main metrics by which models will be compared."
   ]
  },
  {
   "cell_type": "markdown",
   "id": "8257c73b",
   "metadata": {},
   "source": [
    "To select the best hyperparameters for each of the models, we used a grid search"
   ]
  },
  {
   "cell_type": "markdown",
   "id": "a93ba814",
   "metadata": {},
   "source": [
    "### Naive Bayes"
   ]
  },
  {
   "cell_type": "code",
   "execution_count": 16,
   "id": "83b36baa",
   "metadata": {},
   "outputs": [],
   "source": [
    "scorer = make_scorer(f1_score, average='weighted')\n",
    "\n",
    "params=  {'alpha': [0.09, 0.1,0.11]}\n",
    "\n",
    "nb = MultinomialNB()\n",
    "\n",
    "grid_search_nb = GridSearchCV(estimator = nb,scoring=scorer, param_grid = params, \n",
    "                              cv = 5, n_jobs = -1, verbose = 2)"
   ]
  },
  {
   "cell_type": "code",
   "execution_count": 17,
   "id": "d03101f4",
   "metadata": {},
   "outputs": [
    {
     "name": "stdout",
     "output_type": "stream",
     "text": [
      "Fitting 5 folds for each of 3 candidates, totalling 15 fits\n"
     ]
    },
    {
     "data": {
      "text/plain": [
       "GridSearchCV(cv=5, estimator=MultinomialNB(), n_jobs=-1,\n",
       "             param_grid={'alpha': [0.09, 0.1, 0.11]},\n",
       "             scoring=make_scorer(f1_score, average=weighted), verbose=2)"
      ]
     },
     "execution_count": 17,
     "metadata": {},
     "output_type": "execute_result"
    }
   ],
   "source": [
    "\n",
    "grid_search_nb.fit(train_features, y_train)"
   ]
  },
  {
   "cell_type": "code",
   "execution_count": 18,
   "id": "32562db8",
   "metadata": {},
   "outputs": [
    {
     "name": "stdout",
     "output_type": "stream",
     "text": [
      "Training Accuracy:\t0.7606 \tTesting Accuracy:\t0.7678\n",
      "Training Precision:\t0.7541 \tTesting Precision:\t0.7531\n",
      "Training Recall:\t0.7606 \tTesting Recall:\t\t0.7678\n",
      "Training F1:\t\t0.6705 \tTesting F1:\t\t0.6785\n"
     ]
    }
   ],
   "source": [
    "\n",
    "nb_train_preds = grid_search_nb.best_estimator_.predict(train_features)\n",
    "nb_test_preds = grid_search_nb.best_estimator_.predict(test_features)\n",
    "metrics_score(nb_train_preds, y_train, nb_test_preds, y_test)"
   ]
  },
  {
   "cell_type": "markdown",
   "id": "385651ed",
   "metadata": {},
   "source": [
    "The quality on the training and test sets is not much different, so we can conclude that the model has not overfitted"
   ]
  },
  {
   "cell_type": "markdown",
   "id": "32e25fd5",
   "metadata": {},
   "source": [
    "### Logisitic Regression"
   ]
  },
  {
   "cell_type": "code",
   "execution_count": 19,
   "id": "ed183987",
   "metadata": {},
   "outputs": [],
   "source": [
    "#scaling data\n",
    "ss = StandardScaler()\n",
    "train_scaled = ss.fit_transform(train_features)\n",
    "test_scaled = ss.transform(test_features)"
   ]
  },
  {
   "cell_type": "code",
   "execution_count": 20,
   "id": "6ec961c7",
   "metadata": {},
   "outputs": [],
   "source": [
    "# Create regularization hyperparameter space\n",
    "C = np.logspace(0, 1, 10)\n",
    "\n",
    "params = dict(C=C, max_iter=[50, 100])\n",
    "\n",
    "logistic = linear_model.LogisticRegression(penalty='l2', class_weight='balanced', random_state=42)\n",
    "\n",
    "grid_search_LR = GridSearchCV(estimator = logistic,scoring=scorer, param_grid = params, \n",
    "                              cv = 3, n_jobs = -1, verbose = 2)"
   ]
  },
  {
   "cell_type": "code",
   "execution_count": 21,
   "id": "0ee41470",
   "metadata": {},
   "outputs": [
    {
     "name": "stdout",
     "output_type": "stream",
     "text": [
      "Fitting 3 folds for each of 20 candidates, totalling 60 fits\n"
     ]
    },
    {
     "data": {
      "text/plain": [
       "GridSearchCV(cv=3,\n",
       "             estimator=LogisticRegression(class_weight='balanced',\n",
       "                                          random_state=42),\n",
       "             n_jobs=-1,\n",
       "             param_grid={'C': array([ 1.        ,  1.29154967,  1.66810054,  2.15443469,  2.7825594 ,\n",
       "        3.59381366,  4.64158883,  5.9948425 ,  7.74263683, 10.        ]),\n",
       "                         'max_iter': [50, 100]},\n",
       "             scoring=make_scorer(f1_score, average=weighted), verbose=2)"
      ]
     },
     "execution_count": 21,
     "metadata": {},
     "output_type": "execute_result"
    }
   ],
   "source": [
    "grid_search_LR.fit(train_scaled, y_train)"
   ]
  },
  {
   "cell_type": "code",
   "execution_count": 22,
   "id": "d6c2fb99",
   "metadata": {},
   "outputs": [
    {
     "name": "stdout",
     "output_type": "stream",
     "text": [
      "Training Accuracy:\t0.7313 \tTesting Accuracy:\t0.6972\n",
      "Training Precision:\t0.8063 \tTesting Precision:\t0.7824\n",
      "Training Recall:\t0.7313 \tTesting Recall:\t\t0.6972\n",
      "Training F1:\t\t0.7529 \tTesting F1:\t\t0.7246\n"
     ]
    }
   ],
   "source": [
    "lr_train_preds = grid_search_LR.best_estimator_.predict(train_scaled)\n",
    "lr_test_preds = grid_search_LR.best_estimator_.predict(test_scaled)\n",
    "metrics_score(lr_train_preds, y_train, lr_test_preds, y_test)"
   ]
  },
  {
   "cell_type": "markdown",
   "id": "4a4940cf",
   "metadata": {},
   "source": [
    "There is already a significant difference in the quality of the training and test samples, overfitting is possible"
   ]
  },
  {
   "cell_type": "markdown",
   "id": "bbe8017c",
   "metadata": {},
   "source": [
    "### Logisitic Regression with PCA"
   ]
  },
  {
   "cell_type": "code",
   "execution_count": 23,
   "id": "a5f9ca7e",
   "metadata": {},
   "outputs": [],
   "source": [
    "\n",
    "# Create regularization hyperparameter space\n",
    "C = np.logspace(0, 1, 10)\n",
    "\n",
    "params = dict(C=C, max_iter=[50, 100])\n",
    "\n",
    "logistic = linear_model.LogisticRegression(penalty='l2', class_weight='balanced', random_state=42)\n",
    "\n",
    "grid_search_LR_pca = GridSearchCV(estimator = logistic,scoring=scorer, param_grid = params, \n",
    "                                  cv = 3, n_jobs = -1, verbose = 2)"
   ]
  },
  {
   "cell_type": "code",
   "execution_count": 24,
   "id": "793b5755",
   "metadata": {},
   "outputs": [
    {
     "name": "stdout",
     "output_type": "stream",
     "text": [
      "Fitting 3 folds for each of 20 candidates, totalling 60 fits\n"
     ]
    },
    {
     "name": "stderr",
     "output_type": "stream",
     "text": [
      "/Users/d.kandalina/Library/Python/3.8/lib/python/site-packages/sklearn/linear_model/_logistic.py:814: ConvergenceWarning: lbfgs failed to converge (status=1):\n",
      "STOP: TOTAL NO. of ITERATIONS REACHED LIMIT.\n",
      "\n",
      "Increase the number of iterations (max_iter) or scale the data as shown in:\n",
      "    https://scikit-learn.org/stable/modules/preprocessing.html\n",
      "Please also refer to the documentation for alternative solver options:\n",
      "    https://scikit-learn.org/stable/modules/linear_model.html#logistic-regression\n",
      "  n_iter_i = _check_optimize_result(\n"
     ]
    },
    {
     "data": {
      "text/plain": [
       "GridSearchCV(cv=3,\n",
       "             estimator=LogisticRegression(class_weight='balanced',\n",
       "                                          random_state=42),\n",
       "             n_jobs=-1,\n",
       "             param_grid={'C': array([ 1.        ,  1.29154967,  1.66810054,  2.15443469,  2.7825594 ,\n",
       "        3.59381366,  4.64158883,  5.9948425 ,  7.74263683, 10.        ]),\n",
       "                         'max_iter': [50, 100]},\n",
       "             scoring=make_scorer(f1_score, average=weighted), verbose=2)"
      ]
     },
     "execution_count": 24,
     "metadata": {},
     "output_type": "execute_result"
    }
   ],
   "source": [
    "grid_search_LR_pca.fit(pca_train, y_train)"
   ]
  },
  {
   "cell_type": "code",
   "execution_count": 25,
   "id": "f802860e",
   "metadata": {},
   "outputs": [
    {
     "name": "stdout",
     "output_type": "stream",
     "text": [
      "Training Accuracy:\t0.7208 \tTesting Accuracy:\t0.7022\n",
      "Training Precision:\t0.7999 \tTesting Precision:\t0.786\n",
      "Training Recall:\t0.7208 \tTesting Recall:\t\t0.7022\n",
      "Training F1:\t\t0.7442 \tTesting F1:\t\t0.7286\n"
     ]
    }
   ],
   "source": [
    "lr_train_preds_pca = grid_search_LR_pca.best_estimator_.predict(pca_train)\n",
    "lr_test_preds_pca = grid_search_LR_pca.best_estimator_.predict(pca_test)\n",
    "metrics_score(lr_train_preds_pca, y_train, lr_test_preds_pca, y_test)"
   ]
  },
  {
   "cell_type": "markdown",
   "id": "3f138d7a",
   "metadata": {},
   "source": [
    "The difference is similar to the previous model, but the results are on average worse"
   ]
  },
  {
   "cell_type": "markdown",
   "id": "e0b60c0e",
   "metadata": {},
   "source": [
    "### Decision Tree"
   ]
  },
  {
   "cell_type": "code",
   "execution_count": 26,
   "id": "7d3cd567",
   "metadata": {},
   "outputs": [],
   "source": [
    "criterion = ['gini', 'entropy']\n",
    "max_depth = [2,4,6,8,10,12]\n",
    "\n",
    "params = dict(criterion=criterion,\n",
    "                max_depth=max_depth)\n",
    "\n",
    "DT = tree.DecisionTreeClassifier(criterion =  'gini', max_depth= 10, random_state = 42)\n",
    "\n",
    "grid_search_DT = GridSearchCV(estimator=DT, param_grid=params, scoring=scorer, \n",
    "                              cv = 5, n_jobs = -1, verbose = 2)"
   ]
  },
  {
   "cell_type": "code",
   "execution_count": 27,
   "id": "5a83d9c4",
   "metadata": {},
   "outputs": [
    {
     "name": "stdout",
     "output_type": "stream",
     "text": [
      "Fitting 5 folds for each of 12 candidates, totalling 60 fits\n"
     ]
    },
    {
     "data": {
      "text/plain": [
       "GridSearchCV(cv=5,\n",
       "             estimator=DecisionTreeClassifier(max_depth=10, random_state=42),\n",
       "             n_jobs=-1,\n",
       "             param_grid={'criterion': ['gini', 'entropy'],\n",
       "                         'max_depth': [2, 4, 6, 8, 10, 12]},\n",
       "             scoring=make_scorer(f1_score, average=weighted), verbose=2)"
      ]
     },
     "execution_count": 27,
     "metadata": {},
     "output_type": "execute_result"
    }
   ],
   "source": [
    "grid_search_DT.fit(train_features, y_train)"
   ]
  },
  {
   "cell_type": "code",
   "execution_count": 28,
   "id": "1e19db4e",
   "metadata": {},
   "outputs": [
    {
     "name": "stdout",
     "output_type": "stream",
     "text": [
      "Training Accuracy:\t0.8695 \tTesting Accuracy:\t0.7461\n",
      "Training Precision:\t0.8766 \tTesting Precision:\t0.6965\n",
      "Training Recall:\t0.8695 \tTesting Recall:\t\t0.7461\n",
      "Training F1:\t\t0.8542 \tTesting F1:\t\t0.7117\n"
     ]
    }
   ],
   "source": [
    "\n",
    "dt_train_preds = grid_search_DT.best_estimator_.predict(train_features)\n",
    "dt_test_preds = grid_search_DT.best_estimator_.predict(test_features)\n",
    "metrics_score(dt_train_preds, y_train, dt_test_preds, y_test)"
   ]
  },
  {
   "cell_type": "markdown",
   "id": "b377f126",
   "metadata": {},
   "source": [
    "The trees seem to have retrained. (In general, it is for them that this is the most characteristic and frequently encountered problem). If we understand that this model is better than the rest in terms of quality on the test, then it will be necessary to deal with the problem of overfitting in more detail."
   ]
  },
  {
   "cell_type": "markdown",
   "id": "2d768123",
   "metadata": {},
   "source": [
    "### decision tree with PCA"
   ]
  },
  {
   "cell_type": "code",
   "execution_count": 29,
   "id": "9fe5819c",
   "metadata": {},
   "outputs": [],
   "source": [
    "criterion = ['gini', 'entropy']\n",
    "max_depth = [2,4,6,8,10,12]\n",
    "\n",
    "params = dict(criterion=criterion,\n",
    "                max_depth=max_depth)\n",
    "\n",
    "DT = tree.DecisionTreeClassifier(criterion =  'gini', max_depth= 10, random_state = 42)\n",
    "\n",
    "grid_search_DT_pca = GridSearchCV(estimator=DT, param_grid=params, scoring=scorer, \n",
    "                                  cv = 5, n_jobs = -1, verbose = 2)"
   ]
  },
  {
   "cell_type": "code",
   "execution_count": 30,
   "id": "ec87ea4f",
   "metadata": {},
   "outputs": [
    {
     "name": "stdout",
     "output_type": "stream",
     "text": [
      "Fitting 5 folds for each of 12 candidates, totalling 60 fits\n"
     ]
    },
    {
     "data": {
      "text/plain": [
       "GridSearchCV(cv=5,\n",
       "             estimator=DecisionTreeClassifier(max_depth=10, random_state=42),\n",
       "             n_jobs=-1,\n",
       "             param_grid={'criterion': ['gini', 'entropy'],\n",
       "                         'max_depth': [2, 4, 6, 8, 10, 12]},\n",
       "             scoring=make_scorer(f1_score, average=weighted), verbose=2)"
      ]
     },
     "execution_count": 30,
     "metadata": {},
     "output_type": "execute_result"
    }
   ],
   "source": [
    "grid_search_DT_pca.fit(pca_train, y_train)"
   ]
  },
  {
   "cell_type": "code",
   "execution_count": 31,
   "id": "7a5b244f",
   "metadata": {},
   "outputs": [
    {
     "name": "stdout",
     "output_type": "stream",
     "text": [
      "Training Accuracy:\t0.8148 \tTesting Accuracy:\t0.7628\n",
      "Training Precision:\t0.7968 \tTesting Precision:\t0.7287\n",
      "Training Recall:\t0.8148 \tTesting Recall:\t\t0.7628\n",
      "Training F1:\t\t0.7981 \tTesting F1:\t\t0.7396\n"
     ]
    }
   ],
   "source": [
    "dt_train_preds_pca = grid_search_DT_pca.best_estimator_.predict(pca_train)\n",
    "dt_test_preds_pca = grid_search_DT_pca.best_estimator_.predict(pca_test)\n",
    "metrics_score(dt_train_preds_pca, y_train, dt_test_preds_pca, y_test)"
   ]
  },
  {
   "cell_type": "markdown",
   "id": "204c3d0a",
   "metadata": {},
   "source": [
    "### random forest"
   ]
  },
  {
   "cell_type": "code",
   "execution_count": 32,
   "id": "cee2e3f7",
   "metadata": {},
   "outputs": [],
   "source": [
    "params = { \n",
    "    'n_estimators': [200, 500],\n",
    "    'max_features': ['sqrt'],\n",
    "    'max_depth' : [4,6,8],\n",
    "    'criterion' :['gini', 'entropy']\n",
    "}\n",
    "\n",
    "rf = RandomForestClassifier(random_state = 42)\n",
    "\n",
    "grid_search_RF = GridSearchCV(estimator=rf, param_grid=params, scoring=scorer, \n",
    "                              cv = 5, n_jobs = -1, verbose = 2)"
   ]
  },
  {
   "cell_type": "code",
   "execution_count": 33,
   "id": "4a5e94c2",
   "metadata": {},
   "outputs": [
    {
     "name": "stdout",
     "output_type": "stream",
     "text": [
      "Fitting 5 folds for each of 12 candidates, totalling 60 fits\n"
     ]
    },
    {
     "data": {
      "text/plain": [
       "GridSearchCV(cv=5, estimator=RandomForestClassifier(random_state=42), n_jobs=-1,\n",
       "             param_grid={'criterion': ['gini', 'entropy'],\n",
       "                         'max_depth': [4, 6, 8], 'max_features': ['sqrt'],\n",
       "                         'n_estimators': [200, 500]},\n",
       "             scoring=make_scorer(f1_score, average=weighted), verbose=2)"
      ]
     },
     "execution_count": 33,
     "metadata": {},
     "output_type": "execute_result"
    }
   ],
   "source": [
    "grid_search_RF.fit(train_features, y_train)"
   ]
  },
  {
   "cell_type": "code",
   "execution_count": 34,
   "id": "52b0b85d",
   "metadata": {},
   "outputs": [
    {
     "name": "stdout",
     "output_type": "stream",
     "text": [
      "Training Accuracy:\t0.7576 \tTesting Accuracy:\t0.7606\n",
      "Training Precision:\t0.8169 \tTesting Precision:\t0.7263\n",
      "Training Recall:\t0.7576 \tTesting Recall:\t\t0.7606\n",
      "Training F1:\t\t0.6617 \tTesting F1:\t\t0.6584\n"
     ]
    }
   ],
   "source": [
    "rf_train_preds = grid_search_RF.best_estimator_.predict(train_features)\n",
    "rf_test_preds = grid_search_RF.best_estimator_.predict(test_features)\n",
    "metrics_score(rf_train_preds, y_train, rf_test_preds, y_test)"
   ]
  },
  {
   "cell_type": "markdown",
   "id": "cc70d621",
   "metadata": {},
   "source": [
    "The model looks weaker than the previous ones, but the metrics on the test and the train are similar"
   ]
  },
  {
   "cell_type": "markdown",
   "id": "401ab375",
   "metadata": {},
   "source": [
    "### Light GBM"
   ]
  },
  {
   "cell_type": "code",
   "execution_count": 35,
   "id": "4053f495",
   "metadata": {},
   "outputs": [],
   "source": [
    "\n",
    "lgbm = LGBMClassifier(random_state=42)\n",
    "\n",
    "param_grid = {'n_estimators': [50, 100],\n",
    "              'colsample_bytree': [0.7, 0.8],\n",
    "              'max_depth': [15, 20],\n",
    "              'num_leaves': [50, 100,],\n",
    "              'min_split_gain': [0.3,0.4],\n",
    "              'reg_alpha': [1.0, 1.1],\n",
    "             'objective': ['multiclass'],\n",
    "             'num_class':[3],\n",
    "              'class_label':['weight']\n",
    "             }\n",
    "\n",
    "              \n",
    "grid_lgbm = GridSearchCV(lgbm, param_grid, cv=2, verbose=1, n_jobs=-1)"
   ]
  },
  {
   "cell_type": "code",
   "execution_count": 36,
   "id": "d9bfcf54",
   "metadata": {},
   "outputs": [
    {
     "name": "stdout",
     "output_type": "stream",
     "text": [
      "Fitting 2 folds for each of 64 candidates, totalling 128 fits\n",
      "[LightGBM] [Warning] Unknown parameter: class_label\n"
     ]
    },
    {
     "data": {
      "text/plain": [
       "GridSearchCV(cv=2, estimator=LGBMClassifier(random_state=42), n_jobs=-1,\n",
       "             param_grid={'class_label': ['weight'],\n",
       "                         'colsample_bytree': [0.7, 0.8], 'max_depth': [15, 20],\n",
       "                         'min_split_gain': [0.3, 0.4],\n",
       "                         'n_estimators': [50, 100], 'num_class': [3],\n",
       "                         'num_leaves': [50, 100], 'objective': ['multiclass'],\n",
       "                         'reg_alpha': [1.0, 1.1]},\n",
       "             verbose=1)"
      ]
     },
     "execution_count": 36,
     "metadata": {},
     "output_type": "execute_result"
    }
   ],
   "source": [
    "grid_lgbm.fit(train_features, y_train)"
   ]
  },
  {
   "cell_type": "code",
   "execution_count": 37,
   "id": "532544b7",
   "metadata": {},
   "outputs": [
    {
     "name": "stdout",
     "output_type": "stream",
     "text": [
      "Training Accuracy:\t0.9749 \tTesting Accuracy:\t0.8139\n",
      "Training Precision:\t0.9753 \tTesting Precision:\t0.7881\n",
      "Training Recall:\t0.9749 \tTesting Recall:\t\t0.8139\n",
      "Training F1:\t\t0.9743 \tTesting F1:\t\t0.7901\n"
     ]
    }
   ],
   "source": [
    "gbm_train_preds = grid_lgbm.best_estimator_.predict(train_features)\n",
    "gbm_test_preds = grid_lgbm.best_estimator_.predict(test_features)\n",
    "metrics_score(gbm_train_preds, y_train, gbm_test_preds, y_test)"
   ]
  },
  {
   "cell_type": "markdown",
   "id": "73c21604",
   "metadata": {},
   "source": [
    "We see a huge difference between the training and training samples, this again indicates a likely overfitting. However, even on the test, the quality here is stronger than on previous models."
   ]
  },
  {
   "cell_type": "markdown",
   "id": "315f1d1f",
   "metadata": {},
   "source": [
    "### KNN"
   ]
  },
  {
   "cell_type": "markdown",
   "id": "f591d57d",
   "metadata": {},
   "source": [
    "\n",
    "As an experiment, we will also try to train the model without a teacher."
   ]
  },
  {
   "cell_type": "code",
   "execution_count": 38,
   "id": "734d2ca2",
   "metadata": {},
   "outputs": [],
   "source": [
    "knn = KNeighborsClassifier()\n",
    "params = {\n",
    "    'n_neighbors': [3,5,11,19],\n",
    "    'weights': ['uniform', 'distance'],\n",
    "    'metric': ['eucilidean', 'manhattan']\n",
    "}\n",
    "\n",
    "grid_knn = GridSearchCV(knn, params, verbose = 1,\n",
    "                        cv = 3, n_jobs =-1)"
   ]
  },
  {
   "cell_type": "code",
   "execution_count": 39,
   "id": "a3078590",
   "metadata": {},
   "outputs": [
    {
     "name": "stdout",
     "output_type": "stream",
     "text": [
      "Fitting 3 folds for each of 16 candidates, totalling 48 fits\n"
     ]
    },
    {
     "name": "stderr",
     "output_type": "stream",
     "text": [
      "/Users/d.kandalina/Library/Python/3.8/lib/python/site-packages/sklearn/model_selection/_validation.py:372: FitFailedWarning: \n",
      "24 fits failed out of a total of 48.\n",
      "The score on these train-test partitions for these parameters will be set to nan.\n",
      "If these failures are not expected, you can try to debug them by setting error_score='raise'.\n",
      "\n",
      "Below are more details about the failures:\n",
      "--------------------------------------------------------------------------------\n",
      "24 fits failed with the following error:\n",
      "Traceback (most recent call last):\n",
      "  File \"/Users/d.kandalina/Library/Python/3.8/lib/python/site-packages/sklearn/model_selection/_validation.py\", line 681, in _fit_and_score\n",
      "    estimator.fit(X_train, y_train, **fit_params)\n",
      "  File \"/Users/d.kandalina/Library/Python/3.8/lib/python/site-packages/sklearn/neighbors/_classification.py\", line 198, in fit\n",
      "    return self._fit(X, y)\n",
      "  File \"/Users/d.kandalina/Library/Python/3.8/lib/python/site-packages/sklearn/neighbors/_base.py\", line 437, in _fit\n",
      "    self._check_algorithm_metric()\n",
      "  File \"/Users/d.kandalina/Library/Python/3.8/lib/python/site-packages/sklearn/neighbors/_base.py\", line 374, in _check_algorithm_metric\n",
      "    raise ValueError(\n",
      "ValueError: Metric 'eucilidean' not valid. Use sorted(sklearn.neighbors.VALID_METRICS['brute']) to get valid options. Metric can also be a callable function.\n",
      "\n",
      "  warnings.warn(some_fits_failed_message, FitFailedWarning)\n",
      "/Users/d.kandalina/Library/Python/3.8/lib/python/site-packages/sklearn/model_selection/_search.py:969: UserWarning: One or more of the test scores are non-finite: [       nan        nan        nan        nan        nan        nan\n",
      "        nan        nan 0.74659638 0.75632109 0.757016   0.76771375\n",
      " 0.76507451 0.77855055 0.7607671  0.77632735]\n",
      "  warnings.warn(\n"
     ]
    },
    {
     "data": {
      "text/plain": [
       "GridSearchCV(cv=3, estimator=KNeighborsClassifier(), n_jobs=-1,\n",
       "             param_grid={'metric': ['eucilidean', 'manhattan'],\n",
       "                         'n_neighbors': [3, 5, 11, 19],\n",
       "                         'weights': ['uniform', 'distance']},\n",
       "             verbose=1)"
      ]
     },
     "execution_count": 39,
     "metadata": {},
     "output_type": "execute_result"
    }
   ],
   "source": [
    "grid_knn.fit(train_scaled, y_train)"
   ]
  },
  {
   "cell_type": "markdown",
   "id": "077c1142",
   "metadata": {},
   "source": [
    "## Comparing the results of all trained models:"
   ]
  },
  {
   "cell_type": "code",
   "execution_count": 41,
   "id": "3e9b264f",
   "metadata": {},
   "outputs": [],
   "source": [
    "model_candidates = [\n",
    "    \n",
    "    {'name':'Naive Bayes',\n",
    "     'accuracy score':accuracy_score(y_test, nb_test_preds),\n",
    "     'f1 score':metrics.f1_score(y_test, nb_test_preds, average='weighted')},\n",
    "    \n",
    "    {'name':'Logistic Regression',\n",
    "     'accuracy score':accuracy_score(y_test, lr_test_preds),\n",
    "     'f1 score':metrics.f1_score(y_test, lr_test_preds, average='weighted')},\n",
    "    \n",
    "    {'name':'Logistic Regression (PCA)',\n",
    "     'accuracy score':accuracy_score(y_test, lr_test_preds_pca),\n",
    "    'f1 score':metrics.f1_score(y_test, lr_test_preds_pca, average='weighted')},\n",
    "    \n",
    "    {'name':'Decision Tree',\n",
    "     'accuracy score':accuracy_score(y_test, dt_test_preds),\n",
    "     'f1 score':metrics.f1_score(y_test, dt_test_preds, average='weighted')},\n",
    "    \n",
    "    {'name':'Decision Tree (PCA)',\n",
    "     'accuracy score':accuracy_score(y_test, dt_test_preds_pca),\n",
    "     'f1 score':metrics.f1_score(y_test, dt_test_preds_pca, average='weighted')},\n",
    "    \n",
    "    {'name':'Random Forest',\n",
    "     'accuracy score':accuracy_score(y_test, rf_test_preds),\n",
    "     'f1 score':metrics.f1_score(y_test, rf_test_preds, average='weighted')},\n",
    "    \n",
    "    {'name':'Light GBM',\n",
    "     'accuracy score':accuracy_score(y_test, gbm_test_preds),\n",
    "     'f1 score':metrics.f1_score(y_test, gbm_test_preds, average='weighted')},\n",
    "    \n",
    "    {'name':'KNN',\n",
    "     'accuracy score':accuracy_score(y_test, knn_test_preds),\n",
    "    'f1 score':metrics.f1_score(y_test, knn_test_preds, average='weighted')}\n",
    " \n",
    "]"
   ]
  },
  {
   "cell_type": "code",
   "execution_count": 42,
   "id": "ca1cae0f",
   "metadata": {},
   "outputs": [
    {
     "data": {
      "text/html": [
       "<div>\n",
       "<style scoped>\n",
       "    .dataframe tbody tr th:only-of-type {\n",
       "        vertical-align: middle;\n",
       "    }\n",
       "\n",
       "    .dataframe tbody tr th {\n",
       "        vertical-align: top;\n",
       "    }\n",
       "\n",
       "    .dataframe thead th {\n",
       "        text-align: right;\n",
       "    }\n",
       "</style>\n",
       "<table border=\"1\" class=\"dataframe\">\n",
       "  <thead>\n",
       "    <tr style=\"text-align: right;\">\n",
       "      <th></th>\n",
       "      <th>accuracy score</th>\n",
       "      <th>f1 score</th>\n",
       "    </tr>\n",
       "    <tr>\n",
       "      <th>name</th>\n",
       "      <th></th>\n",
       "      <th></th>\n",
       "    </tr>\n",
       "  </thead>\n",
       "  <tbody>\n",
       "    <tr>\n",
       "      <th>Naive Bayes</th>\n",
       "      <td>0.767778</td>\n",
       "      <td>0.678534</td>\n",
       "    </tr>\n",
       "    <tr>\n",
       "      <th>Logistic Regression</th>\n",
       "      <td>0.697222</td>\n",
       "      <td>0.724605</td>\n",
       "    </tr>\n",
       "    <tr>\n",
       "      <th>Logistic Regression (PCA)</th>\n",
       "      <td>0.702222</td>\n",
       "      <td>0.728622</td>\n",
       "    </tr>\n",
       "    <tr>\n",
       "      <th>Decision Tree</th>\n",
       "      <td>0.746111</td>\n",
       "      <td>0.711705</td>\n",
       "    </tr>\n",
       "    <tr>\n",
       "      <th>Decision Tree (PCA)</th>\n",
       "      <td>0.762778</td>\n",
       "      <td>0.739605</td>\n",
       "    </tr>\n",
       "    <tr>\n",
       "      <th>Random Forest</th>\n",
       "      <td>0.760556</td>\n",
       "      <td>0.658438</td>\n",
       "    </tr>\n",
       "    <tr>\n",
       "      <th>Light GBM</th>\n",
       "      <td>0.813889</td>\n",
       "      <td>0.790127</td>\n",
       "    </tr>\n",
       "    <tr>\n",
       "      <th>KNN</th>\n",
       "      <td>0.794444</td>\n",
       "      <td>0.734661</td>\n",
       "    </tr>\n",
       "  </tbody>\n",
       "</table>\n",
       "</div>"
      ],
      "text/plain": [
       "                           accuracy score  f1 score\n",
       "name                                               \n",
       "Naive Bayes                      0.767778  0.678534\n",
       "Logistic Regression              0.697222  0.724605\n",
       "Logistic Regression (PCA)        0.702222  0.728622\n",
       "Decision Tree                    0.746111  0.711705\n",
       "Decision Tree (PCA)              0.762778  0.739605\n",
       "Random Forest                    0.760556  0.658438\n",
       "Light GBM                        0.813889  0.790127\n",
       "KNN                              0.794444  0.734661"
      ]
     },
     "execution_count": 42,
     "metadata": {},
     "output_type": "execute_result"
    }
   ],
   "source": [
    "final_result_df = pd.DataFrame(model_candidates).set_index('name')\n",
    "final_result_df"
   ]
  },
  {
   "cell_type": "markdown",
   "id": "0e344105",
   "metadata": {},
   "source": [
    "Boosting trained by Light GBM proved to be the best. In terms of accuracy, the unsupervised model, KNN, also became a strong model, however, in terms of F1-score, it is weaker than decision trees using PCA, which is third in accuracy.\n",
    "Confusion matrix for these three algorithms:\n"
   ]
  },
  {
   "cell_type": "code",
   "execution_count": 43,
   "id": "ed1909be",
   "metadata": {},
   "outputs": [
    {
     "data": {
      "text/plain": [
       "[Text(0, 0.5, 'Average'), Text(0, 1.5, 'Excellent'), Text(0, 2.5, 'Poor')]"
      ]
     },
     "execution_count": 43,
     "metadata": {},
     "output_type": "execute_result"
    },
    {
     "data": {
      "image/png": "[encoded data removed]",
      "text/plain": [
       "<Figure size 1800x720 with 6 Axes>"
      ]
     },
     "metadata": {},
     "output_type": "display_data"
    }
   ],
   "source": [
    "sns.color_palette(\"viridis\", as_cmap=True)\n",
    "# sns.set_context(\"talk\")\n",
    "\n",
    "fig, ax = plt.subplots(nrows=1, ncols=3, figsize=(25, 10))\n",
    "\n",
    "# plot KNN confusion matrix\n",
    "sns.heatmap(confusion_matrix(y_test, knn_test_preds).T,\n",
    "            square=True,\n",
    "            annot=True,\n",
    "            fmt='d',\n",
    "            linewidths=1,\n",
    "            vmin=200, vmax=1000, center=200,\n",
    "            cmap=\"mako\",\n",
    "            ax=ax[0]).set_title('KNN', fontsize=30)\n",
    "\n",
    "ax[0].set_xlabel('Truth', fontsize=25)\n",
    "ax[0].set_ylabel('Prediction', fontsize=25)\n",
    "ax[0].set_xticklabels(['Average', 'Excellent', 'Poor'], fontsize=15)\n",
    "ax[0].set_yticklabels(['Average', 'Excellent', 'Poor'], va='center', fontsize=15)\n",
    "\n",
    "# plot Decision tree (PCA) confusion matrix\n",
    "sns.heatmap(confusion_matrix(y_test, dt_test_preds_pca).T,\n",
    "            square=True,\n",
    "            annot=True,\n",
    "            fmt='d',\n",
    "            linewidths=1,\n",
    "            vmin=200, vmax=1000, center=200,\n",
    "            cmap=\"mako\",\n",
    "            ax=ax[1]).set_title('Decision tree (PCA)', fontsize=30)\n",
    "\n",
    "ax[1].set_xlabel('Truth', fontsize=25)\n",
    "ax[1].set_ylabel('Prediction', fontsize=25)\n",
    "ax[1].set_xticklabels(['Average', 'Excellent', 'Poor'], fontsize=15)\n",
    "ax[1].set_yticklabels(['Average', 'Excellent', 'Poor'], va='center', fontsize=15)\n",
    "\n",
    "# plot LightGBM confusion matrix\n",
    "sns.heatmap(confusion_matrix(y_test, gbm_test_preds).T,\n",
    "            square=True,\n",
    "            annot=True,\n",
    "            fmt='d',\n",
    "            linewidths=1,\n",
    "            vmin=200, vmax=1000, center=200,\n",
    "            cmap=\"mako\",\n",
    "            ax=ax[2]).set_title('LightGBM', fontsize=30)\n",
    "\n",
    "ax[2].set_xlabel('Truth', fontsize=25)\n",
    "ax[2].set_ylabel('Prediction', fontsize=25)\n",
    "ax[2].set_xticklabels(['Average', 'Excellent', 'Poor'], fontsize=15)\n",
    "ax[2].set_yticklabels(['Average', 'Excellent', 'Poor'], va='center', fontsize=15)"
   ]
  },
  {
   "attachments": {},
   "cell_type": "markdown",
   "id": "d0b62833",
   "metadata": {},
   "source": [
    "It turns out that Light GBM most well separates weak and medium reviews. However, it is interesting that the unsupervised method also performed quite well. This shows that companies have the ability not to ask for a rating and write a review at the same time, for fear of their inconsistency with each other, but to use clustering to rate based on the review"
   ]
  },
  {
   "cell_type": "code",
   "execution_count": null,
   "id": "4fc7372e",
   "metadata": {},
   "outputs": [],
   "source": []
  }
 ],
 "metadata": {
  "kernelspec": {
   "display_name": "Python 3 (ipykernel)",
   "language": "python",
   "name": "python3"
  },
  "language_info": {
   "codemirror_mode": {
    "name": "ipython",
    "version": 3
   },
   "file_extension": ".py",
   "mimetype": "text/x-python",
   "name": "python",
   "nbconvert_exporter": "python",
   "pygments_lexer": "ipython3",
   "version": "3.8.10"
  },
  "varInspector": {
   "cols": {
    "lenName": 16,
    "lenType": 16,
    "lenVar": 40
   },
   "kernels_config": {
    "python": {
     "delete_cmd_postfix": "",
     "delete_cmd_prefix": "del ",
     "library": "var_list.py",
     "varRefreshCmd": "print(var_dic_list())"
    },
    "r": {
     "delete_cmd_postfix": ") ",
     "delete_cmd_prefix": "rm(",
     "library": "var_list.r",
     "varRefreshCmd": "cat(var_dic_list()) "
    }
   },
   "types_to_exclude": [
    "module",
    "function",
    "builtin_function_or_method",
    "instance",
    "_Feature"
   ],
   "window_display": false
  }
 },
 "nbformat": 4,
 "nbformat_minor": 5
}
